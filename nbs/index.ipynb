{
 "cells": [
  {
   "cell_type": "code",
   "execution_count": null,
   "metadata": {},
   "outputs": [],
   "source": [
    "#| hide\n",
    "\n",
    "import vrland"
   ]
  },
  {
   "cell_type": "markdown",
   "metadata": {},
   "source": [
    "# VRland\n",
    "\n",
    "> Valley-Ridge score and single-cell Waddington-like landscapes"
   ]
  },
  {
   "cell_type": "markdown",
   "metadata": {},
   "source": [
    "This file will become the README and documentation index for the upcoming standalone implementation of the *Valley-Ridge* score landscapes.\n",
    "\n",
    "**VRland** allows to visualise single-cell differentiation processes on a Waddington-like landscape by combining the global cellular relationships captured by PHATE as ‘longitude and latitude’ axes, with a Valley-Ridge (VR) score based on cellular pluripotency and RNA velocity.\n",
    "The resulting VR landscape altitude captures the differentiation potential of a cell population, with the valley-ridge topology delineating local plasticity.\n",
    "\n",
    "For an example of the current implementation as a single Jupyter Notebook, \n",
    "please see the work on [Qin & Cardoso Rodriguez *et al.* 2023](https://doi.org/10.1101/2023.02.15.528008) and it's [associated GitHub repository](https://github.com/TAPE-Lab/Qin-CardosoRodriguez-et-al) \n",
    "(VR score and landscape generation can be found within the Figure 7 directory). "
   ]
  },
  {
   "cell_type": "markdown",
   "metadata": {},
   "source": [
    "## Install"
   ]
  },
  {
   "cell_type": "markdown",
   "metadata": {},
   "source": [
    "Currently, the pre-release VRland tool can be used by cloning its GitHub repository and locally installing the package from the repo root directory with:"
   ]
  },
  {
   "cell_type": "markdown",
   "metadata": {},
   "source": [
    "```sh\n",
    "pip install -e \".[dev]\"    \n",
    "```"
   ]
  },
  {
   "cell_type": "markdown",
   "metadata": {},
   "source": [
    "## How to use"
   ]
  },
  {
   "cell_type": "markdown",
   "metadata": {},
   "source": [
    "A brief tutorial will be coming soon..."
   ]
  },
  {
   "cell_type": "code",
   "execution_count": null,
   "metadata": {},
   "outputs": [],
   "source": []
  }
 ],
 "metadata": {
  "kernelspec": {
   "display_name": "python3",
   "language": "python",
   "name": "python3"
  }
 },
 "nbformat": 4,
 "nbformat_minor": 4
}
