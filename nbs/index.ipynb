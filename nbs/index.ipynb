{
 "cells": [
  {
   "cell_type": "code",
   "execution_count": null,
   "metadata": {},
   "outputs": [],
   "source": [
    "#| hide\n",
    "\n",
    "import vrland"
   ]
  },
  {
   "cell_type": "markdown",
   "metadata": {},
   "source": [
    "# VRland\n",
    "\n",
    "> Valley-Ridge score and single-cell Waddington-like landscapes"
   ]
  },
  {
   "cell_type": "markdown",
   "metadata": {},
   "source": [
    "This file will become the README and documentation index for the upcoming standalone implementation of the *Valley-Ridge* score landscapes.\n",
    "\n",
    "For an example of the current implementation as a single Jupyter Notebook, \n",
    "please see the work on [Qin & Cardoso Rodriguez *et al.* 2023](https://doi.org/10.1101/2023.02.15.528008) and it's [associated GitHub repository](https://github.com/TAPE-Lab/Qin-CardosoRodriguez-et-al) \n",
    "(VR score and landscape generation can be found within the Figure 7 directory). "
   ]
  },
  {
   "cell_type": "markdown",
   "metadata": {},
   "source": [
    "## Install"
   ]
  },
  {
   "cell_type": "markdown",
   "metadata": {},
   "source": [
    "```sh\n",
    "pip install vrland\n",
    "```"
   ]
  },
  {
   "cell_type": "markdown",
   "metadata": {},
   "source": [
    "## How to use"
   ]
  },
  {
   "cell_type": "markdown",
   "metadata": {},
   "source": [
    "Fill me in please! Don't forget code examples:"
   ]
  },
  {
   "cell_type": "code",
   "execution_count": null,
   "metadata": {},
   "outputs": [],
   "source": []
  }
 ],
 "metadata": {
  "kernelspec": {
   "display_name": "python3",
   "language": "python",
   "name": "python3"
  }
 },
 "nbformat": 4,
 "nbformat_minor": 4
}
