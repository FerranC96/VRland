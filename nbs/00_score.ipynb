{
 "cells": [
  {
   "cell_type": "markdown",
   "metadata": {},
   "source": [
    "# VR score\n",
    "\n",
    "> This computes the VR score from pluripotency and velocity metrics"
   ]
  },
  {
   "cell_type": "code",
   "execution_count": null,
   "metadata": {},
   "outputs": [],
   "source": [
    "#| default_exp score"
   ]
  },
  {
   "cell_type": "code",
   "execution_count": null,
   "metadata": {},
   "outputs": [],
   "source": [
    "#| hide\n",
    "from nbdev.showdoc import *\n",
    "from fastcore.test import test_eq"
   ]
  },
  {
   "cell_type": "code",
   "execution_count": null,
   "metadata": {},
   "outputs": [],
   "source": [
    "#| export\n",
    "def compute_distdeg(input_df, dim_name = [\"phateepi_1\",\"phateepi_2\"], split_by=\"curatedCLUST\", \n",
    "    knn=30, distance_metric = \"manhattan\", scale = True, inv_degree=True,\n",
    "    plot=False, rmv_outliers=True):\n",
    "    \"Function that computes distances and degrees of cells within a cluster.\"\n",
    "    #Results will get scaled within the cluster level so it handles them as independent entities\n",
    "    output_df = pd.DataFrame(columns=dim_name+[\"dist\",\"deg\"])\n",
    "    for i in input_df[split_by].unique():\n",
    "        print(i)\n",
    "        df_dist = input_df.loc[input_df[split_by]==i,dim_name]\n",
    "        #Knn param is key and must be tunned according to the size of the cluster\n",
    "        G = graphtools.Graph(df_dist.values, knn=knn, decay=None, distance=distance_metric)\n",
    "        # Return distances by using shortest_path\n",
    "        np_dist = G.shortest_path(distance=\"data\")\n",
    "        #Compute median distance to all cells for al cells -> min should be a centroid\n",
    "        df_dist[\"dist\"] = np.median(np_dist, axis=1)\n",
    "        df_dist[\"deg\"] = G.to_pygsp().d\n",
    "        if rmv_outliers:\n",
    "            #Replace distant outliers with median value -> DONE to smoothen landscape at the very edges of a cluster\n",
    "            df_dist[\"dist\"] = np.where(\n",
    "                                df_dist[\"dist\"]>np.percentile(df_dist[\"dist\"],99), \n",
    "                                df_dist[\"dist\"].median(), \n",
    "                                df_dist[\"dist\"])\n",
    "        if scale:\n",
    "            df_dist[\"dist_scaled\"] = MinMaxScaler().fit_transform(X = df_dist[[\"dist\"]])\n",
    "            df_dist[\"inv_deg_scaled\"] = MinMaxScaler().fit_transform(X = 1/df_dist[[\"deg\"]])\n",
    "        if plot:\n",
    "            #Plot cluster cells on phate and colour by distance from centroid\n",
    "            plt.scatter(df_dist[dim_name[0]],df_dist[dim_name[1]],c=df_dist[\"dist\"])\n",
    "            plt.show()\n",
    "            plt.scatter(df_dist[dim_name[0]],df_dist[dim_name[1]],c=df_dist[\"deg\"])\n",
    "            plt.show()\n",
    "\n",
    "        output_df = pd.concat([output_df, df_dist])\n",
    "\n",
    "    return output_df"
   ]
  },
  {
   "cell_type": "code",
   "execution_count": null,
   "metadata": {},
   "outputs": [],
   "source": []
  },
  {
   "cell_type": "code",
   "execution_count": null,
   "metadata": {},
   "outputs": [],
   "source": [
    "#| export\n",
    "def foo(): pass"
   ]
  },
  {
   "cell_type": "code",
   "execution_count": null,
   "metadata": {},
   "outputs": [],
   "source": [
    "# test_eq(say_hi(\"Jeremy\"), \"Hi Jeremy!\")"
   ]
  },
  {
   "cell_type": "code",
   "execution_count": null,
   "metadata": {},
   "outputs": [],
   "source": [
    "#| hide\n",
    "import nbdev; nbdev.nbdev_export()"
   ]
  }
 ],
 "metadata": {
  "kernelspec": {
   "display_name": "python3",
   "language": "python",
   "name": "python3"
  }
 },
 "nbformat": 4,
 "nbformat_minor": 4
}
